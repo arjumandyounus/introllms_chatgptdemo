{
 "cells": [
  {
   "cell_type": "code",
   "execution_count": 24,
   "id": "ec48c7a1-8014-4b8b-9a18-3fe12aa08a2e",
   "metadata": {},
   "outputs": [
    {
     "name": "stdout",
     "output_type": "stream",
     "text": [
      "Requirement already satisfied: openai in c:\\users\\atif\\anaconda3\\lib\\site-packages (1.47.1)\n",
      "Requirement already satisfied: anyio<5,>=3.5.0 in c:\\users\\atif\\anaconda3\\lib\\site-packages (from openai) (4.2.0)\n",
      "Requirement already satisfied: distro<2,>=1.7.0 in c:\\users\\atif\\anaconda3\\lib\\site-packages (from openai) (1.8.0)\n",
      "Requirement already satisfied: httpx<1,>=0.23.0 in c:\\users\\atif\\anaconda3\\lib\\site-packages (from openai) (0.27.2)\n",
      "Requirement already satisfied: jiter<1,>=0.4.0 in c:\\users\\atif\\anaconda3\\lib\\site-packages (from openai) (0.5.0)\n",
      "Requirement already satisfied: pydantic<3,>=1.9.0 in c:\\users\\atif\\anaconda3\\lib\\site-packages (from openai) (1.10.12)\n",
      "Requirement already satisfied: sniffio in c:\\users\\atif\\anaconda3\\lib\\site-packages (from openai) (1.3.0)\n",
      "Requirement already satisfied: tqdm>4 in c:\\users\\atif\\anaconda3\\lib\\site-packages (from openai) (4.65.0)\n",
      "Requirement already satisfied: typing-extensions<5,>=4.11 in c:\\users\\atif\\anaconda3\\lib\\site-packages (from openai) (4.12.2)\n",
      "Requirement already satisfied: idna>=2.8 in c:\\users\\atif\\anaconda3\\lib\\site-packages (from anyio<5,>=3.5.0->openai) (3.4)\n",
      "Requirement already satisfied: certifi in c:\\users\\atif\\anaconda3\\lib\\site-packages (from httpx<1,>=0.23.0->openai) (2024.2.2)\n",
      "Requirement already satisfied: httpcore==1.* in c:\\users\\atif\\anaconda3\\lib\\site-packages (from httpx<1,>=0.23.0->openai) (1.0.5)\n",
      "Requirement already satisfied: h11<0.15,>=0.13 in c:\\users\\atif\\anaconda3\\lib\\site-packages (from httpcore==1.*->httpx<1,>=0.23.0->openai) (0.14.0)\n",
      "Requirement already satisfied: colorama in c:\\users\\atif\\anaconda3\\lib\\site-packages (from tqdm>4->openai) (0.4.6)\n",
      "Requirement already satisfied: tiktoken in c:\\users\\atif\\anaconda3\\lib\\site-packages (0.7.0)\n",
      "Requirement already satisfied: regex>=2022.1.18 in c:\\users\\atif\\anaconda3\\lib\\site-packages (from tiktoken) (2023.10.3)\n",
      "Requirement already satisfied: requests>=2.26.0 in c:\\users\\atif\\anaconda3\\lib\\site-packages (from tiktoken) (2.31.0)\n",
      "Requirement already satisfied: charset-normalizer<4,>=2 in c:\\users\\atif\\anaconda3\\lib\\site-packages (from requests>=2.26.0->tiktoken) (2.0.4)\n",
      "Requirement already satisfied: idna<4,>=2.5 in c:\\users\\atif\\anaconda3\\lib\\site-packages (from requests>=2.26.0->tiktoken) (3.4)\n",
      "Requirement already satisfied: urllib3<3,>=1.21.1 in c:\\users\\atif\\anaconda3\\lib\\site-packages (from requests>=2.26.0->tiktoken) (2.0.7)\n",
      "Requirement already satisfied: certifi>=2017.4.17 in c:\\users\\atif\\anaconda3\\lib\\site-packages (from requests>=2.26.0->tiktoken) (2024.2.2)\n"
     ]
    }
   ],
   "source": [
    "!pip install openai\n",
    "!pip install tiktoken\n",
    "import os\n",
    "import openai\n",
    "import tiktoken\n",
    "from dotenv import load_dotenv, find_dotenv\n",
    "_ = load_dotenv(find_dotenv()) # read local .env file\n",
    "\n",
    "from openai import OpenAI\n",
    "\n",
    "client = OpenAI(\n",
    "  api_key=os.environ['OPENAI_API_KEY'],  # this is also the default, it can be omitted\n",
    ")"
   ]
  },
  {
   "cell_type": "code",
   "execution_count": 25,
   "id": "861e171b-3565-4c3e-911a-1a059636a554",
   "metadata": {},
   "outputs": [],
   "source": [
    "\n",
    "def get_completion(prompt, model=\"gpt-3.5-turbo-instruct\"):\n",
    "    response = client.completions.create(model=model,\n",
    "    prompt=prompt,\n",
    "    max_tokens=100,\n",
    "    n=1,\n",
    "    stop=None,\n",
    "    temperature=0.5)\n",
    "\n",
    "    message = response.choices[0].text.strip()\n",
    "    return message\n",
    "\n"
   ]
  },
  {
   "cell_type": "code",
   "execution_count": 27,
   "id": "042f7f30-cbfc-4b99-88b6-cd87dfaaa4a6",
   "metadata": {},
   "outputs": [
    {
     "name": "stdout",
     "output_type": "stream",
     "text": [
      "The capital of Ireland is Dublin.\n"
     ]
    }
   ],
   "source": [
    "response = get_completion(\"What is the capital of Ireland?\")\n",
    "print(response)"
   ]
  },
  {
   "cell_type": "code",
   "execution_count": 4,
   "id": "5938efd5-5c65-4619-8111-b91c54a77dbc",
   "metadata": {},
   "outputs": [],
   "source": [
    "##Tokens"
   ]
  },
  {
   "cell_type": "code",
   "execution_count": 29,
   "id": "cec20db8-a486-4895-9b5a-d9eb7389f08b",
   "metadata": {},
   "outputs": [
    {
     "name": "stdout",
     "output_type": "stream",
     "text": [
      "p-o-p-i-l-l-o-l\n"
     ]
    }
   ],
   "source": [
    "response = get_completion(\"Take the letters in l-o-l-l-i-p-o-p and reverse them\")\n",
    "print(response)"
   ]
  },
  {
   "cell_type": "code",
   "execution_count": 22,
   "id": "5db2c58e-29ba-4d75-8e37-faf10892a329",
   "metadata": {},
   "outputs": [],
   "source": [
    "def ask_chatgpt(messages):\n",
    "    response = client.chat.completions.create(\n",
    "    model=\"gpt-4o-mini\",\n",
    "    messages=messages\n",
    "    )\n",
    "    response_message = response.choices[0].message.content\n",
    "    return (response_message)"
   ]
  },
  {
   "cell_type": "code",
   "execution_count": 32,
   "id": "48849773-884a-4ccc-9273-75f64f8c3578",
   "metadata": {},
   "outputs": [
    {
     "name": "stdout",
     "output_type": "stream",
     "text": [
      "Why is it that the sky is blue and the grass is green, yet no one seems to care about the real issues at hand? Stop being distracted by these trivial facts! We’re living in a world where nature flaunts its colors while we ignore the bigger problems around us. Wake up, people! The sky could be flames and the grass could wither, and yet we’d still choose to be blind to reality. Enough is enough! #OpenYourEyes #RealityCheck\n"
     ]
    }
   ],
   "source": [
    "from typing import List\n",
    "\n",
    "\n",
    "prompt_role='You are an assistant for journalists. \\\n",
    "    Your task is to write articles, based on the FACTS that are given to you. \\\n",
    "    You should respect the instructions: the TONE, the LENGTH, and the STYLE'\n",
    "\n",
    "def assist_journalist(facts: List[str], tone: str, length_words: int, style: str):\n",
    "    facts = \", \".join(facts)\n",
    "    prompt = f'{prompt_role}\\nFACTS: {facts}\\nTONE: {tone}\\nLENGTH: {length_words} words\\nSTYLE: {style}'\n",
    "    return ask_chatgpt([{\"role\": \"user\", \"content\": prompt}])\n",
    "\n",
    "print(assist_journalist(['The sky is blue', 'The grass is green'], 'angry', 80, 'tweet'))"
   ]
  },
  {
   "cell_type": "code",
   "execution_count": null,
   "id": "4051ce93-5769-464f-8ec0-998c8c43b282",
   "metadata": {},
   "outputs": [],
   "source": []
  },
  {
   "cell_type": "code",
   "execution_count": null,
   "id": "b9a1025e-e100-4bab-bbfd-f4268fffea4d",
   "metadata": {},
   "outputs": [],
   "source": []
  }
 ],
 "metadata": {
  "kernelspec": {
   "display_name": "Python 3 (ipykernel)",
   "language": "python",
   "name": "python3"
  },
  "language_info": {
   "codemirror_mode": {
    "name": "ipython",
    "version": 3
   },
   "file_extension": ".py",
   "mimetype": "text/x-python",
   "name": "python",
   "nbconvert_exporter": "python",
   "pygments_lexer": "ipython3",
   "version": "3.11.7"
  }
 },
 "nbformat": 4,
 "nbformat_minor": 5
}
